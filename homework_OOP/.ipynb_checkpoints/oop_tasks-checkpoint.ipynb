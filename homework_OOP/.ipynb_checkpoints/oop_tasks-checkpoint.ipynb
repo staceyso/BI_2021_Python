{
 "cells": [
  {
   "cell_type": "code",
   "execution_count": 41,
   "id": "cd5e287d",
   "metadata": {},
   "outputs": [],
   "source": [
    "from Bio.Seq import Seq, back_transcribe\n",
    "from Bio import SeqIO\n",
    "from Bio.SeqUtils import GC\n",
    "import matplotlib.pyplot as plt\n",
    "import pandas as pd"
   ]
  },
  {
   "cell_type": "code",
   "execution_count": 4,
   "id": "397efbce",
   "metadata": {},
   "outputs": [],
   "source": [
    "class InitError(Exception):\n",
    "    pass"
   ]
  },
  {
   "cell_type": "markdown",
   "id": "c1d17653",
   "metadata": {},
   "source": [
    "### Task 1 "
   ]
  },
  {
   "cell_type": "code",
   "execution_count": 5,
   "id": "f725f22b",
   "metadata": {},
   "outputs": [],
   "source": [
    "class Cat:\n",
    "    \"\"\"\n",
    "    Class that gives you an opportunity to create a cat and perform some basic interactions with it.\n",
    "    \"\"\"\n",
    "    def __init__(self, name='Barsik', hungry=True, voice='Meow!'):\n",
    "\n",
    "        if not isinstance(name, str):\n",
    "            raise InitError(\"'name' must be str\")\n",
    "        if not isinstance(hungry, bool):\n",
    "            raise InitError(\"'hungry' must be bool\")\n",
    "        if not isinstance(voice, str):\n",
    "            raise InitError(\"'voice' must be str\")\n",
    "\n",
    "        self.name = name\n",
    "        self.hungry = hungry\n",
    "        self.voice = voice\n",
    "\n",
    "    def feed(self):\n",
    "        self.hungry = False\n",
    "        self.voice = 'Mrrrp^^'\n",
    "\n",
    "    def pet(self):\n",
    "        if self.hungry:\n",
    "            self.voice = 'Meow!'\n",
    "            print('CatHint: Your cat is hungry, he/she doesn\\'t want to be petted! Feed your cat!')\n",
    "        else:\n",
    "            self.voice = 'Mrrrp^^'\n",
    "            self.hungry = True\n",
    "\n",
    "    def talk_to(self):\n",
    "        print(self.voice)"
   ]
  },
  {
   "cell_type": "code",
   "execution_count": 6,
   "id": "856f6400",
   "metadata": {},
   "outputs": [
    {
     "ename": "InitError",
     "evalue": "'hungry' must be bool",
     "output_type": "error",
     "traceback": [
      "\u001b[1;31m---------------------------------------------------------------------------\u001b[0m",
      "\u001b[1;31mInitError\u001b[0m                                 Traceback (most recent call last)",
      "\u001b[1;32m<ipython-input-6-65c92f45a172>\u001b[0m in \u001b[0;36m<module>\u001b[1;34m\u001b[0m\n\u001b[1;32m----> 1\u001b[1;33m \u001b[0mFloppa\u001b[0m \u001b[1;33m=\u001b[0m \u001b[0mCat\u001b[0m\u001b[1;33m(\u001b[0m\u001b[1;34m'Floppa'\u001b[0m\u001b[1;33m,\u001b[0m \u001b[1;34m'yes'\u001b[0m\u001b[1;33m,\u001b[0m \u001b[1;34m'Hey, I\\'m Floppa, big Russian cat'\u001b[0m\u001b[1;33m)\u001b[0m\u001b[1;33m\u001b[0m\u001b[1;33m\u001b[0m\u001b[0m\n\u001b[0m",
      "\u001b[1;32m<ipython-input-5-37a60dd35f4b>\u001b[0m in \u001b[0;36m__init__\u001b[1;34m(self, name, hungry, voice)\u001b[0m\n\u001b[0;32m      8\u001b[0m             \u001b[1;32mraise\u001b[0m \u001b[0mInitError\u001b[0m\u001b[1;33m(\u001b[0m\u001b[1;34m\"'name' must be str\"\u001b[0m\u001b[1;33m)\u001b[0m\u001b[1;33m\u001b[0m\u001b[1;33m\u001b[0m\u001b[0m\n\u001b[0;32m      9\u001b[0m         \u001b[1;32mif\u001b[0m \u001b[1;32mnot\u001b[0m \u001b[0misinstance\u001b[0m\u001b[1;33m(\u001b[0m\u001b[0mhungry\u001b[0m\u001b[1;33m,\u001b[0m \u001b[0mbool\u001b[0m\u001b[1;33m)\u001b[0m\u001b[1;33m:\u001b[0m\u001b[1;33m\u001b[0m\u001b[1;33m\u001b[0m\u001b[0m\n\u001b[1;32m---> 10\u001b[1;33m             \u001b[1;32mraise\u001b[0m \u001b[0mInitError\u001b[0m\u001b[1;33m(\u001b[0m\u001b[1;34m\"'hungry' must be bool\"\u001b[0m\u001b[1;33m)\u001b[0m\u001b[1;33m\u001b[0m\u001b[1;33m\u001b[0m\u001b[0m\n\u001b[0m\u001b[0;32m     11\u001b[0m         \u001b[1;32mif\u001b[0m \u001b[1;32mnot\u001b[0m \u001b[0misinstance\u001b[0m\u001b[1;33m(\u001b[0m\u001b[0mvoice\u001b[0m\u001b[1;33m,\u001b[0m \u001b[0mstr\u001b[0m\u001b[1;33m)\u001b[0m\u001b[1;33m:\u001b[0m\u001b[1;33m\u001b[0m\u001b[1;33m\u001b[0m\u001b[0m\n\u001b[0;32m     12\u001b[0m             \u001b[1;32mraise\u001b[0m \u001b[0mInitError\u001b[0m\u001b[1;33m(\u001b[0m\u001b[1;34m\"'voice' must be str\"\u001b[0m\u001b[1;33m)\u001b[0m\u001b[1;33m\u001b[0m\u001b[1;33m\u001b[0m\u001b[0m\n",
      "\u001b[1;31mInitError\u001b[0m: 'hungry' must be bool"
     ]
    }
   ],
   "source": [
    "Floppa = Cat('Floppa', 'yes', 'Hey, I\\'m Floppa, big Russian cat')  # This code will raise InitError"
   ]
  },
  {
   "cell_type": "code",
   "execution_count": 8,
   "id": "547a690a",
   "metadata": {},
   "outputs": [
    {
     "name": "stdout",
     "output_type": "stream",
     "text": [
      "CatHint: Your cat is hungry, he/she doesn't want to be petted! Feed your cat!\n"
     ]
    }
   ],
   "source": [
    "kitten = Cat('Vasily', True, 'Meow')\n",
    "kitten.pet()"
   ]
  },
  {
   "cell_type": "code",
   "execution_count": 9,
   "id": "23ea44e1",
   "metadata": {},
   "outputs": [
    {
     "name": "stdout",
     "output_type": "stream",
     "text": [
      "Mrrrp^^\n"
     ]
    }
   ],
   "source": [
    "kitten.feed()\n",
    "kitten.talk_to()"
   ]
  },
  {
   "cell_type": "markdown",
   "id": "b1afdea3",
   "metadata": {},
   "source": [
    "### Task 2"
   ]
  },
  {
   "cell_type": "code",
   "execution_count": 30,
   "id": "896322db",
   "metadata": {},
   "outputs": [],
   "source": [
    "class RNA:\n",
    "    \"\"\"\n",
    "    Class that describes RNA. It creates an object from RNA sequence.\n",
    "    \"\"\"\n",
    "    def __init__(self, seq):\n",
    "        self.seq = seq\n",
    "        self.acid_type = 'ribonucleic'\n",
    "        self.length = len(self.seq)\n",
    "\n",
    "    def translate(self):\n",
    "        \"\"\"\n",
    "        Method that translates RNA into aminoacid sequence. Returns protein sequence.\n",
    "        \"\"\"\n",
    "        protein = Seq.translate(self.seq)\n",
    "        return protein\n",
    "\n",
    "\n",
    "    def reverse_transcribe(self):\n",
    "        \"\"\"\n",
    "        Method that returns complementary DNA sequence (reverse transcription).\n",
    "        \"\"\"\n",
    "        dna = back_transcribe(self.seq)\n",
    "        return dna"
   ]
  },
  {
   "cell_type": "code",
   "execution_count": 35,
   "id": "cac695f0",
   "metadata": {},
   "outputs": [
    {
     "data": {
      "text/plain": [
       "'AUGCGACUG'"
      ]
     },
     "execution_count": 35,
     "metadata": {},
     "output_type": "execute_result"
    }
   ],
   "source": [
    "rna_seq = RNA('AUGCGACUG')\n",
    "rna_seq.seq"
   ]
  },
  {
   "cell_type": "code",
   "execution_count": 36,
   "id": "2c2fb925",
   "metadata": {},
   "outputs": [
    {
     "data": {
      "text/plain": [
       "9"
      ]
     },
     "execution_count": 36,
     "metadata": {},
     "output_type": "execute_result"
    }
   ],
   "source": [
    "rna_seq.length"
   ]
  },
  {
   "cell_type": "code",
   "execution_count": 37,
   "id": "5fc0d970",
   "metadata": {},
   "outputs": [
    {
     "data": {
      "text/plain": [
       "Seq('MRL')"
      ]
     },
     "execution_count": 37,
     "metadata": {},
     "output_type": "execute_result"
    }
   ],
   "source": [
    "protein = rna_seq.translate()\n",
    "protein"
   ]
  },
  {
   "cell_type": "code",
   "execution_count": 38,
   "id": "9da31097",
   "metadata": {},
   "outputs": [
    {
     "data": {
      "text/plain": [
       "'ATGCGACTG'"
      ]
     },
     "execution_count": 38,
     "metadata": {},
     "output_type": "execute_result"
    }
   ],
   "source": [
    "dna = rna_seq.reverse_transcribe()\n",
    "dna"
   ]
  },
  {
   "cell_type": "markdown",
   "id": "5ab43801",
   "metadata": {},
   "source": [
    "### Task 3"
   ]
  },
  {
   "cell_type": "code",
   "execution_count": 46,
   "id": "e2a28549",
   "metadata": {},
   "outputs": [],
   "source": [
    "class OnlyPositiveSet(set):\n",
    "    \"\"\"\n",
    "    Class that is inherited from set, but includes only positive numbers.\n",
    "    \"\"\"\n",
    "    def __init__(self, elements):\n",
    "        super().__init__()\n",
    "        for el in elements:\n",
    "            self.add(el)\n",
    "\n",
    "    def add(self, element) -> None:\n",
    "        if isinstance(element, int) or isinstance(element, float):\n",
    "            if element > 0:\n",
    "                super().add(element)\n",
    "\n",
    "    def update(self, *s) -> None:\n",
    "        for it in s:\n",
    "            for i in it:\n",
    "                self.add(i)\n",
    "\n",
    "    def __ior__(self, other):\n",
    "        for element in other:\n",
    "            self.add(element)\n",
    "        return self\n",
    "\n",
    "    def __ixor__(self, other):\n",
    "        for element in other:\n",
    "            if element not in self:\n",
    "                self.add(element)\n",
    "            else:\n",
    "                self.remove(element)\n",
    "        return self"
   ]
  },
  {
   "cell_type": "code",
   "execution_count": 47,
   "id": "bc9dff03",
   "metadata": {},
   "outputs": [
    {
     "data": {
      "text/plain": [
       "{1, 2, 3, 4, 5, 6, 7}"
      ]
     },
     "execution_count": 47,
     "metadata": {},
     "output_type": "execute_result"
    }
   ],
   "source": [
    "ops = OnlyPositiveSet([-1, -2, -10, 1, 2, 3, 4, 5, 6, 7, 'h', 'q'])\n",
    "ops"
   ]
  },
  {
   "cell_type": "code",
   "execution_count": 49,
   "id": "11ba2c72",
   "metadata": {},
   "outputs": [
    {
     "data": {
      "text/plain": [
       "{-1, -10, -2, 1, 2, 3, 4, 5, 6, 7, 'h', 'q'}"
      ]
     },
     "execution_count": 49,
     "metadata": {},
     "output_type": "execute_result"
    }
   ],
   "source": [
    "st = set([-1, -2, -10, 1, 2, 3, 4, 5, 6, 7, 'h', 'q'])\n",
    "st"
   ]
  },
  {
   "cell_type": "code",
   "execution_count": 50,
   "id": "987e72a1",
   "metadata": {},
   "outputs": [
    {
     "data": {
      "text/plain": [
       "{1, 2, 3, 4, 5, 6, 7, 42}"
      ]
     },
     "execution_count": 50,
     "metadata": {},
     "output_type": "execute_result"
    }
   ],
   "source": [
    "ops.add(42)\n",
    "ops.add(-19)\n",
    "ops.add('v')\n",
    "ops"
   ]
  },
  {
   "cell_type": "code",
   "execution_count": 51,
   "id": "15a215b2",
   "metadata": {},
   "outputs": [
    {
     "data": {
      "text/plain": [
       "{1, 2, 3, 4, 5, 6, 7, 42, 160}"
      ]
     },
     "execution_count": 51,
     "metadata": {},
     "output_type": "execute_result"
    }
   ],
   "source": [
    "ops.update([160, -12])\n",
    "ops"
   ]
  },
  {
   "cell_type": "code",
   "execution_count": 52,
   "id": "df4baf7b",
   "metadata": {},
   "outputs": [
    {
     "data": {
      "text/plain": [
       "{1, 2, 3, 4, 5, 6, 7, 42, 160, 320}"
      ]
     },
     "execution_count": 52,
     "metadata": {},
     "output_type": "execute_result"
    }
   ],
   "source": [
    "ops |= {320, -1, -2, -3, 'k'}\n",
    "ops"
   ]
  },
  {
   "cell_type": "code",
   "execution_count": 53,
   "id": "60345e88",
   "metadata": {},
   "outputs": [
    {
     "data": {
      "text/plain": [
       "{4, 5, 6, 7, 42, 160, 320, 640}"
      ]
     },
     "execution_count": 53,
     "metadata": {},
     "output_type": "execute_result"
    }
   ],
   "source": [
    "ops ^= {1, 2, 3, 640, -25, True}\n",
    "ops"
   ]
  },
  {
   "cell_type": "markdown",
   "id": "c0fee830",
   "metadata": {},
   "source": [
    "### Task 4"
   ]
  },
  {
   "cell_type": "code",
   "execution_count": 39,
   "id": "c0e2db32",
   "metadata": {},
   "outputs": [],
   "source": [
    "class StatFASTA:\n",
    "    def __init__(self, path):\n",
    "        self.path = path\n",
    "\n",
    "    def __str__(self):\n",
    "        return self.path\n",
    "\n",
    "    def count_seqs(self):\n",
    "        nseq = 0\n",
    "        for seq in SeqIO.parse(self.path, \"fasta\"):\n",
    "            nseq += 1\n",
    "        return nseq\n",
    "\n",
    "    def histogram_lengths(self, path_to_save=None):\n",
    "        lengths = [len(seq) for seq in SeqIO.parse(self.path, \"fasta\")]\n",
    "\n",
    "        plt.figure(figsize=(10, 5))\n",
    "        plt.hist(x=lengths,\n",
    "                 color=\"lavender\",\n",
    "                 ec=\"black\",\n",
    "                 linewidth=0.25)\n",
    "        plt.title('Histogram of sequences lengths', fontsize=18)\n",
    "        plt.xlabel('Length', fontsize=12)\n",
    "        plt.ylabel('Number of sequences', fontsize=12)\n",
    "\n",
    "        if path_to_save is not None:\n",
    "            plt.savefig(path_to_save)\n",
    "        plt.show()\n",
    "\n",
    "    def gc_content(self):\n",
    "        gc_lst = [round(GC(seq.seq), 2) for seq in SeqIO.parse(self.path, \"fasta\")]\n",
    "        gc = pd.DataFrame(gc_lst, columns=['GC-content'])\n",
    "        return gc\n",
    "\n",
    "    def all_metrics(self):\n",
    "        print(f'The number of sequences: {self.count_seqs()}')\n",
    "        self.histogram_lengths()\n",
    "        print(f'GC-content for each sequence:\\n{self.gc_content()}')"
   ]
  },
  {
   "cell_type": "code",
   "execution_count": 43,
   "id": "26fc6d11",
   "metadata": {},
   "outputs": [],
   "source": [
    "class StatFASTA:\n",
    "    def __init__(self, path):\n",
    "        self.path = path\n",
    "\n",
    "    def __str__(self):\n",
    "        return self.path\n",
    "\n",
    "    def count_seqs(self):\n",
    "        nseq = 0\n",
    "        for seq in SeqIO.parse(self.path, \"fasta\"):\n",
    "            nseq += 1\n",
    "        return nseq\n",
    "\n",
    "    def histogram_lengths(self, path_to_save=None):\n",
    "        lengths = [len(seq) for seq in SeqIO.parse(self.path, \"fasta\")]\n",
    "\n",
    "        plt.figure(figsize=(10, 5))\n",
    "        plt.hist(x=lengths,\n",
    "                 color=\"lavender\",\n",
    "                 ec=\"black\",\n",
    "                 linewidth=0.25)\n",
    "        plt.title('Histogram of sequences lengths', fontsize=18)\n",
    "        plt.xlabel('Length', fontsize=12)\n",
    "        plt.ylabel('Number of sequences', fontsize=12)\n",
    "\n",
    "        if path_to_save is not None:\n",
    "            plt.savefig(path_to_save)\n",
    "        plt.show()\n",
    "\n",
    "    def gc_content(self):\n",
    "        gc_lst = [round(GC(seq.seq), 2) for seq in SeqIO.parse(self.path, \"fasta\")]\n",
    "        gc = pd.DataFrame(gc_lst, columns=['GC-content'])\n",
    "        return gc\n",
    "\n",
    "    def all_metrics(self):\n",
    "        print(f'The number of sequences: {self.count_seqs()}')\n",
    "        self.histogram_lengths()\n",
    "        print(f'GC-content for each sequence:\\n\\n{self.gc_content()}')"
   ]
  },
  {
   "cell_type": "code",
   "execution_count": 44,
   "id": "8011b7e6",
   "metadata": {},
   "outputs": [
    {
     "name": "stdout",
     "output_type": "stream",
     "text": [
      "The number of sequences: 4\n"
     ]
    },
    {
     "data": {
      "image/png": "[encoded data removed]",
      "text/plain": [
       "<Figure size 720x360 with 1 Axes>"
      ]
     },
     "metadata": {
      "needs_background": "light"
     },
     "output_type": "display_data"
    },
    {
     "name": "stdout",
     "output_type": "stream",
     "text": [
      "GC-content for each sequence:\n",
      "\n",
      "   GC-content\n",
      "0       13.63\n",
      "1       13.63\n",
      "2       17.05\n",
      "3       17.36\n"
     ]
    }
   ],
   "source": [
    "s = StatFASTA('./example.fasta')\n",
    "s.all_metrics()"
   ]
  },
  {
   "cell_type": "code",
   "execution_count": 45,
   "id": "618680fa",
   "metadata": {},
   "outputs": [
    {
     "name": "stdout",
     "output_type": "stream",
     "text": [
      "./example.fasta\n"
     ]
    }
   ],
   "source": [
    "print(s)"
   ]
  }
 ],
 "metadata": {
  "kernelspec": {
   "display_name": "Python 3",
   "language": "python",
   "name": "python3"
  },
  "language_info": {
   "codemirror_mode": {
    "name": "ipython",
    "version": 3
   },
   "file_extension": ".py",
   "mimetype": "text/x-python",
   "name": "python",
   "nbconvert_exporter": "python",
   "pygments_lexer": "ipython3",
   "version": "3.8.8"
  }
 },
 "nbformat": 4,
 "nbformat_minor": 5
}
